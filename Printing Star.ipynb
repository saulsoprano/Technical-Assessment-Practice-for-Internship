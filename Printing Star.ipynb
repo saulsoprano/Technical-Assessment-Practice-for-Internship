{
 "cells": [
  {
   "cell_type": "code",
   "execution_count": 17,
   "id": "651c8e08",
   "metadata": {},
   "outputs": [
    {
     "name": "stdout",
     "output_type": "stream",
     "text": [
      "    * \n",
      "   * * \n",
      "  * * * \n",
      " * * * * \n",
      "* * * * * \n"
     ]
    }
   ],
   "source": [
    "num_of_lines = 5\n",
    "\n",
    "for i in range(1, num_of_lines+1):\n",
    "    \n",
    "    # calculate the number of spaces before the stars in each line\n",
    "    num_of_space = num_of_lines-i\n",
    "    \n",
    "    # print the spaces\n",
    "    for j in range (num_of_space):\n",
    "        print(\" \", end =\"\")\n",
    "        \n",
    "    # print the stars\n",
    "    for j in range (i):\n",
    "        print(\"* \", end =\"\")\n",
    "        \n",
    "    print()\n",
    "    "
   ]
  },
  {
   "cell_type": "code",
   "execution_count": 24,
   "id": "da36c666",
   "metadata": {},
   "outputs": [
    {
     "name": "stdout",
     "output_type": "stream",
     "text": [
      "         * \n",
      "        * * \n",
      "       * * * \n",
      "      * * * * \n",
      "     * * * * * \n",
      "    * * * * * * \n",
      "   * * * * * * * \n",
      "  * * * * * * * * \n",
      " * * * * * * * * * \n",
      "* * * * * * * * * * \n"
     ]
    }
   ],
   "source": [
    "num_of_lines = 10\n",
    "\n",
    "for i in range(1, num_of_lines+1):\n",
    "    num_of_spaces = num_of_lines - i\n",
    "    \n",
    "    for j in range (num_of_spaces):\n",
    "        print(\" \", end =\"\")\n",
    "    for j in range(i):\n",
    "        print(\"* \", end=\"\")\n",
    "    print()\n",
    "        "
   ]
  },
  {
   "cell_type": "code",
   "execution_count": 29,
   "id": "72a0fcf3",
   "metadata": {},
   "outputs": [
    {
     "name": "stdout",
     "output_type": "stream",
     "text": [
      "      *\n",
      "     ***\n",
      "    *****\n",
      "   *******\n",
      "  *********\n",
      " ***********\n",
      "*************\n"
     ]
    }
   ],
   "source": [
    "num_of_lines = 7\n",
    "\n",
    "for i in range(1, num_of_lines+1):\n",
    "    num_of_spaces = num_of_lines - i\n",
    "    \n",
    "    for j in range (num_of_spaces):\n",
    "        print(\" \", end =\"\")\n",
    "    for j in range(2*i - 1):\n",
    "        print(\"*\", end=\"\")\n",
    "    print()\n",
    "        "
   ]
  },
  {
   "cell_type": "code",
   "execution_count": null,
   "id": "032c32b2",
   "metadata": {},
   "outputs": [],
   "source": []
  }
 ],
 "metadata": {
  "kernelspec": {
   "display_name": "Python 3 (ipykernel)",
   "language": "python",
   "name": "python3"
  },
  "language_info": {
   "codemirror_mode": {
    "name": "ipython",
    "version": 3
   },
   "file_extension": ".py",
   "mimetype": "text/x-python",
   "name": "python",
   "nbconvert_exporter": "python",
   "pygments_lexer": "ipython3",
   "version": "3.9.13"
  }
 },
 "nbformat": 4,
 "nbformat_minor": 5
}
