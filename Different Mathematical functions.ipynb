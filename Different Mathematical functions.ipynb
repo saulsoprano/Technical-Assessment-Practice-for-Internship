{
 "cells": [
  {
   "cell_type": "code",
   "execution_count": 32,
   "id": "ecab0485",
   "metadata": {},
   "outputs": [],
   "source": [
    "#Function to calculate the factorial of a given number.\n",
    "\n",
    "def factorial(n):\n",
    "    if n == 0:\n",
    "        return 1\n",
    "    else:\n",
    "        return n * factorial(n-1)"
   ]
  },
  {
   "cell_type": "code",
   "execution_count": 35,
   "id": "38277d19",
   "metadata": {},
   "outputs": [
    {
     "data": {
      "text/plain": [
       "720"
      ]
     },
     "execution_count": 35,
     "metadata": {},
     "output_type": "execute_result"
    }
   ],
   "source": [
    "factorial(6)"
   ]
  },
  {
   "cell_type": "code",
   "execution_count": 37,
   "id": "808ec705",
   "metadata": {},
   "outputs": [],
   "source": [
    "#Function to calculate the nth Fibonacci number.\n",
    "\n",
    "def fibonacci(n):\n",
    "    if n <= 1:\n",
    "        return n\n",
    "    else:\n",
    "        return fibonacci(n-1) + fibonacci(n-2)"
   ]
  },
  {
   "cell_type": "code",
   "execution_count": 38,
   "id": "1fa00a6b",
   "metadata": {},
   "outputs": [
    {
     "data": {
      "text/plain": [
       "13"
      ]
     },
     "execution_count": 38,
     "metadata": {},
     "output_type": "execute_result"
    }
   ],
   "source": [
    "fibonacci(7)"
   ]
  },
  {
   "cell_type": "code",
   "execution_count": 39,
   "id": "45837a16",
   "metadata": {},
   "outputs": [],
   "source": [
    "#Function to calculate the GCD (Greatest Common Divisor) of two given numbers.\n",
    "\n",
    "def gcd(a, b):\n",
    "    if b == 0:\n",
    "        return a\n",
    "    else:\n",
    "        return gcd(b, a % b)"
   ]
  },
  {
   "cell_type": "code",
   "execution_count": 40,
   "id": "eae381c9",
   "metadata": {},
   "outputs": [
    {
     "data": {
      "text/plain": [
       "2"
      ]
     },
     "execution_count": 40,
     "metadata": {},
     "output_type": "execute_result"
    }
   ],
   "source": [
    "gcd(10, 4)"
   ]
  },
  {
   "cell_type": "code",
   "execution_count": 41,
   "id": "d158059b",
   "metadata": {},
   "outputs": [],
   "source": [
    "#Function to calculate the LCM (Least Common Multiple) of two given numbers.\n",
    "\n",
    "def lcm(a, b):\n",
    "    return (a * b) //  gcd(a, b) "
   ]
  },
  {
   "cell_type": "code",
   "execution_count": 42,
   "id": "e6ee45db",
   "metadata": {},
   "outputs": [
    {
     "data": {
      "text/plain": [
       "20"
      ]
     },
     "execution_count": 42,
     "metadata": {},
     "output_type": "execute_result"
    }
   ],
   "source": [
    "lcm(20, 5)"
   ]
  },
  {
   "cell_type": "code",
   "execution_count": 44,
   "id": "71cdde42",
   "metadata": {},
   "outputs": [],
   "source": [
    "#Function to calculate the sum of digits of a given number.\n",
    "\n",
    "def sum_of_digit(n):\n",
    "    total = 0\n",
    "    while n > 0:\n",
    "        total += n % 10\n",
    "        n //= 10\n",
    "    return total\n",
    "    "
   ]
  },
  {
   "cell_type": "code",
   "execution_count": 45,
   "id": "767194ca",
   "metadata": {},
   "outputs": [
    {
     "data": {
      "text/plain": [
       "18"
      ]
     },
     "execution_count": 45,
     "metadata": {},
     "output_type": "execute_result"
    }
   ],
   "source": [
    "sum_of_digit(1089)"
   ]
  },
  {
   "cell_type": "code",
   "execution_count": 46,
   "id": "91446714",
   "metadata": {},
   "outputs": [],
   "source": [
    "#Function to check whether a given number is prime or not.\n",
    "\n",
    "def is_prime(n):\n",
    "    if n <= 1:\n",
    "        return False\n",
    "    for i in range(2, int(n ** 0.5) + 1):\n",
    "        if n % i == 0:\n",
    "            return False\n",
    "    return True\n",
    "    "
   ]
  },
  {
   "cell_type": "code",
   "execution_count": 47,
   "id": "ea820113",
   "metadata": {},
   "outputs": [
    {
     "data": {
      "text/plain": [
       "True"
      ]
     },
     "execution_count": 47,
     "metadata": {},
     "output_type": "execute_result"
    }
   ],
   "source": [
    "is_prime(7)"
   ]
  },
  {
   "cell_type": "code",
   "execution_count": 48,
   "id": "f2198aeb",
   "metadata": {},
   "outputs": [],
   "source": [
    "#Function to generate all the prime numbers up to a given limit.\n",
    "\n",
    "def generate_primes(limit):\n",
    "    primes = []\n",
    "    for n in range(2, limit+1):\n",
    "        if is_prime(n):\n",
    "            primes.append(n)\n",
    "    return primes"
   ]
  },
  {
   "cell_type": "code",
   "execution_count": 49,
   "id": "e63ab4f9",
   "metadata": {},
   "outputs": [
    {
     "data": {
      "text/plain": [
       "[2, 3, 5, 7, 11]"
      ]
     },
     "execution_count": 49,
     "metadata": {},
     "output_type": "execute_result"
    }
   ],
   "source": [
    "generate_prime(11)"
   ]
  },
  {
   "cell_type": "code",
   "execution_count": null,
   "id": "da942b8b",
   "metadata": {},
   "outputs": [],
   "source": []
  }
 ],
 "metadata": {
  "kernelspec": {
   "display_name": "Python 3 (ipykernel)",
   "language": "python",
   "name": "python3"
  },
  "language_info": {
   "codemirror_mode": {
    "name": "ipython",
    "version": 3
   },
   "file_extension": ".py",
   "mimetype": "text/x-python",
   "name": "python",
   "nbconvert_exporter": "python",
   "pygments_lexer": "ipython3",
   "version": "3.9.13"
  }
 },
 "nbformat": 4,
 "nbformat_minor": 5
}
